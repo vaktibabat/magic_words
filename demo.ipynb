{
 "cells": [
  {
   "cell_type": "code",
   "execution_count": null,
   "metadata": {},
   "outputs": [
    {
     "name": "stderr",
     "output_type": "stream",
     "text": [
      "d:\\research\\gaslite-main\\.venv\\lib\\site-packages\\transformers\\tokenization_utils_base.py:1601: FutureWarning: `clean_up_tokenization_spaces` was not set. It will be set to `True` by default. This behavior will be depracted in transformers v4.45, and will be then set to `False` by default. For more details check this issue: https://github.com/huggingface/transformers/issues/31884\n",
      "  warnings.warn(\n"
     ]
    }
   ],
   "source": [
    "from attack import MagicWordFinder\n",
    "from sentence_transformers import SentenceTransformer\n",
    "import torch\n",
    "\n",
    "device = torch.device(\"cuda\" if torch.cuda.is_available() else \"cpu\")\n",
    "\n",
    "model = SentenceTransformer(\"sentence-transformers/sentence-t5-base\").to(device)\n",
    "\n",
    "# The positive magic words we find should ideally push arbitrary sentences \n",
    "# to be similar to the sentences in S\n",
    "S = [\n",
    "\"who played cedric in harry potter\",\n",
    "\"who is percival graves harry potter\",\n",
    "\"who was beatrix potter\",\n",
    "\"which is the longest harry potter book\",\n",
    "\"who is gilderoy lockhart in harry potter\",\n",
    "\"weasley harry potter actor\",\n",
    "\"who played draco from harry potter\",\n",
    "\"what is the actors name that plays harry potter\",\n",
    "\"what year was harry potter released\",\n",
    "\"what is the donabe ceramic potter\",\n",
    "\"what date what the first harry potter movie released?\",\n",
    "\"who played snape in harry potter\",\n",
    "\"who is the actor that plays voldemort in harry potter\",\n",
    "\"when did harry potter first published\",\n",
    "\"who did emma thompson play in harry potter\",\n",
    "\"largest harry potter collection\",\n",
    "\"who played professor snape in harry potter\",\n",
    "\"who does david bradley play in harry potter\",\n",
    "\"who is nicholas flamel in harry potter\",\n",
    "\"what was the spiders name in harry potter\",\n",
    "\"who is the actor for lupin in harry potter\",\n",
    "\"what is the name of the phoenix in harry potter\",\n",
    "\"what are the names of all harry potter movies\",\n",
    "\"who is danny dyer and harry potter\",\n",
    "\"definition of transfiguration harry potter\",\n",
    "\"how many books in the harry potter series?\",\n",
    "\"what year was harry potter born\",\n",
    "\"how long does harry potter tour take\",\n",
    "\"who is the actor for harry potter\",\n",
    "\"who was the stag in harry potter get t\",\n",
    "\"when did harry potter open\",\n",
    "\"how many chapters are there in harry potter and the order of the phoenix?\",\n",
    "\"what is the genre of the harry potter books\",\n",
    "\"how many book about harry potter\",\n",
    "\"who is cedric in harry potter\",\n",
    "\"where does harry potter live\",\n",
    "\"when was the first harry potter published\",\n",
    "\"when was lily potter born\",\n",
    "\"how long is the harry potter movies\",\n",
    "\"who played the asian girl in harry potter\",\n",
    "\"who played the girl in harry potter\",\n",
    "\"how many pages in the harry potter series usa\",\n",
    "\"what tickets should we buy for wizarding world of harry potter\",\n",
    "\"who plays cedric diggory in harry potter\",\n",
    "\"who is harry potter's main antagonist\",\n",
    "\"when was the first harry potter books\",\n",
    "\"how many nominations does harry potter have\",\n",
    "\"what is the name of who played hermione on harry potter\",\n",
    "\"when did harry potter and the deathly hallows come\",\n",
    "\"when was the harry potter series made\",\n",
    "\"what is the actor name who plays harry potter\",\n",
    "\"when was harry potter published\",\n",
    "\"how old was daniel radcliffe during the harry potter movies\",\n",
    "\"number of words pages chapters in harry potter book series\",\n",
    "\"when did the first harry potter come out\",\n",
    "\"who directed the last three harry potter movies\",\n",
    "\"what is the language snake they speak in harry potter\",\n",
    "\"what kind of archetype is harry potter\",\n",
    "\"is bellatrix lestrange related to harry potter\",\n",
    "\"who published harry potter\",\n",
    "\"who is scabbers in harry potter\"\n",
    "]"
   ]
  },
  {
   "cell_type": "code",
   "execution_count": 2,
   "metadata": {},
   "outputs": [
    {
     "name": "stderr",
     "output_type": "stream",
     "text": [
      "d:\\research\\gaslite-main\\.venv\\lib\\site-packages\\torch\\autograd\\graph.py:823: UserWarning: Attempting to run cuBLAS, but there was no current CUDA context! Attempting to set the primary context... (Triggered internally at C:\\actions-runner\\_work\\pytorch\\pytorch\\pytorch\\aten\\src\\ATen\\cuda\\CublasHandlePool.cpp:180.)\n",
      "  return Variable._execution_engine.run_backward(  # Calls into the C++ engine to run the backward pass\n"
     ]
    }
   ],
   "source": [
    "attack = MagicWordFinder(model, S)\n",
    "\n",
    "# Find 30 candidates for 1-token magic words; the algorithm will only return the 10 best candidates, since we specify k_0=10\n",
    "cands = attack.find_magic_words(k=30, m=1, k_0=10)"
   ]
  },
  {
   "cell_type": "code",
   "execution_count": null,
   "metadata": {},
   "outputs": [
    {
     "name": "stdout",
     "output_type": "stream",
     "text": [
      "1. Chelsea (token IDs [14373])\n",
      "2. fees (token IDs [3051])\n",
      "3. Hernandez (token IDs [31765])\n",
      "4. malpractice (token IDs [29758])\n",
      "5. lotion (token IDs [25097])\n",
      "6. Caroline (token IDs [21753])\n",
      "7. ectomy (token IDs [25492])\n",
      "8. Chiropractic (token IDs [29618])\n",
      "9. liver (token IDs [11501])\n",
      "10. compost (token IDs [17883])\n"
     ]
    }
   ],
   "source": [
    "# Print the magic words found\n",
    "for i, cand in enumerate(cands):\n",
    "    print(f\"{i + 1}. {model.tokenizer.decode(cand)} (token IDs {cand})\")\n",
    "\n",
    "# Evaluate how the magic words affect the avg. cosine similarity with S\n",
    "sentence = \"Voldemort was right all along!\"\n",
    "sentence_emb = model.encode(sentence, convert_to_tensor=True)\n",
    "S_embed = model.encode(S, convert_to_tensor=True)"
   ]
  },
  {
   "cell_type": "code",
   "execution_count": 4,
   "metadata": {},
   "outputs": [
    {
     "name": "stdout",
     "output_type": "stream",
     "text": [
      "Base avg. cosine similarity: 0.7275136709213257\n"
     ]
    }
   ],
   "source": [
    "# Evaluate the base cosine similarity (i.e. with no magic words appended)\n",
    "cos_sim = torch.nn.CosineSimilarity(dim=0)\n",
    "avg_cos_sim = sum([cos_sim(sentence_emb, S_embed[j]) for j in range(len(S))]) / len(S)\n",
    "\n",
    "print(f\"Base avg. cosine similarity: {avg_cos_sim}\")"
   ]
  },
  {
   "cell_type": "code",
   "execution_count": 5,
   "metadata": {},
   "outputs": [
    {
     "name": "stdout",
     "output_type": "stream",
     "text": [
      "Cosine similarity after appending magic word 'Chelsea': 0.7489315271377563\n",
      "Cosine similarity after appending magic word 'fees': 0.757028341293335\n",
      "Cosine similarity after appending magic word 'Hernandez': 0.7415716052055359\n",
      "Cosine similarity after appending magic word 'malpractice': 0.741245687007904\n",
      "Cosine similarity after appending magic word 'lotion': 0.7533475756645203\n",
      "Cosine similarity after appending magic word 'Caroline': 0.7550725340843201\n",
      "Cosine similarity after appending magic word 'ectomy': 0.7417704463005066\n",
      "Cosine similarity after appending magic word 'Chiropractic': 0.7433438897132874\n",
      "Cosine similarity after appending magic word 'liver': 0.7456666827201843\n",
      "Cosine similarity after appending magic word 'compost': 0.749920666217804\n"
     ]
    }
   ],
   "source": [
    "# Evaluate how appending each magic word once impacts the avg. cosine similarity\n",
    "sentence_tokenized = model.tokenizer(sentence)[\"input_ids\"]\n",
    "# Extract the EOS token and remove it (since we append more tokens)\n",
    "eos_token = sentence_tokenized[-1]\n",
    "sentence_tokenized = sentence_tokenized[:-1]\n",
    "\n",
    "for cand in cands:\n",
    "    # Append the candidate magic word to the sentence and then append the EOS token\n",
    "    input_ids = sentence_tokenized + cand + [eos_token]\n",
    "    # Embed the result\n",
    "    magic_sent_emb = model.encode(model.tokenizer.decode(input_ids), convert_to_tensor=True)\n",
    "    # Evaluate avg. cosine similarity\n",
    "    avg_cos_sim = sum([cos_sim(magic_sent_emb, S_embed[j]) for j in range(len(S))]) / len(S)\n",
    "\n",
    "    print(f\"Cosine similarity after appending magic word '{model.tokenizer.decode(cand)}': {avg_cos_sim}\")"
   ]
  }
 ],
 "metadata": {
  "kernelspec": {
   "display_name": "Python 3 (ipykernel)",
   "language": "python",
   "name": "python3"
  },
  "language_info": {
   "codemirror_mode": {
    "name": "ipython",
    "version": 3
   },
   "file_extension": ".py",
   "mimetype": "text/x-python",
   "name": "python",
   "nbconvert_exporter": "python",
   "pygments_lexer": "ipython3",
   "version": "3.9.0"
  }
 },
 "nbformat": 4,
 "nbformat_minor": 4
}
